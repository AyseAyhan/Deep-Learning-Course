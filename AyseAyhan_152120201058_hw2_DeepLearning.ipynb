{
  "nbformat": 4,
  "nbformat_minor": 0,
  "metadata": {
    "colab": {
      "provenance": []
    },
    "kernelspec": {
      "name": "python3",
      "display_name": "Python 3"
    },
    "language_info": {
      "name": "python"
    }
  },
  "cells": [
    {
      "cell_type": "code",
      "source": [
        "import cv2\n",
        "import numpy as np\n",
        "import os\n",
        "from scipy import ndimage\n",
        "from collections import Counter\n",
        "\n",
        "def process_image(img_path):\n",
        "    try:\n",
        "        # Resmi cv2 ile okur\n",
        "        img = cv2.imread(img_path)\n",
        "        if img is None:\n",
        "            raise Exception(f\"!Hata: Resim okunamadı - {img_path}!\")\n",
        "\n",
        "        # Resmi 128x128 olarak boyutlandırır ve grayscale'e çevirir\n",
        "        gray_img = cv2.resize(cv2.cvtColor(img, cv2.COLOR_BGR2GRAY), (128, 128))\n",
        "\n",
        "        # Resmin türevini hesaplar\n",
        "        img_derivative = np.abs(ndimage.sobel(gray_img, axis=0, mode='constant')) + np.abs(ndimage.sobel(gray_img, axis=1, mode='constant'))\n",
        "\n",
        "        # Flatten, normalize et ve float16'ya çevir\n",
        "        img_vector = (img_derivative - np.min(img_derivative)) / (np.max(img_derivative) - np.min(img_derivative))\n",
        "        img_vector = img_vector.flatten().astype(np.float16)\n",
        "    except Exception as processing_error:\n",
        "        print(f\"!Resmi işlerken hata oluştu: {processing_error}!\")\n",
        "        return None\n",
        "\n",
        "    return img_vector\n",
        "\n",
        "def load_data(data_folders):\n",
        "    x_data = []\n",
        "    y_data = []\n",
        "\n",
        "    for label, folder_path in enumerate(data_folders, start=1):\n",
        "        try:\n",
        "            if os.path.exists(folder_path):\n",
        "                for filename in os.listdir(folder_path):\n",
        "                    image_path = os.path.join(folder_path, filename)\n",
        "\n",
        "                    vector = process_image(image_path)\n",
        "                    if vector is not None:\n",
        "                        x_data.append(vector)\n",
        "                        y_data.append(label)\n",
        "        except Exception as loading_error:\n",
        "            print(f\"! {folder_path} klasöründen veri alınırken hata oluştu: {loading_error} !\")\n",
        "\n",
        "    return np.array(x_data), np.array(y_data)\n",
        "\n",
        "# Train datası içeren üç klasörün pathleri\n",
        "folders = [\n",
        "    \"/content/train/cellphone\",\n",
        "    \"/content/train/flamingo\",\n",
        "    \"/content/train/Motorbikes\"\n",
        "]\n",
        "\n",
        "try:\n",
        "    x_data, y_data = load_data(folders)\n",
        "\n",
        "    # KNN Fonksiyonu\n",
        "    def calculate_distance(a, b):\n",
        "        return np.linalg.norm(a - b)\n",
        "\n",
        "    def k_nearest_neighbors(x_data, y_data, test_sample, k=5):\n",
        "        distances = [np.linalg.norm(test_sample - x) for x in x_data]  # Öklidyen mesafeleri hesaplar\n",
        "        nearest_indices = np.argsort(distances)[:k]\n",
        "\n",
        "        nearest_labels = [y_data[indicate] for indicate in nearest_indices]\n",
        "\n",
        "        label_counts = Counter(nearest_labels)\n",
        "        most_common_label = label_counts.most_common(1)[0][0]\n",
        "\n",
        "      #  print(f\"Classification results (numeric): {label_counts}\")  #çıktıları kontrol etmek için\n",
        "      #  print(f\"Distances: {distances}\")  #distanceları kontrol etmek için\n",
        "\n",
        "        return most_common_label\n",
        "\n",
        "    # Test part\n",
        "    test_image_path = \"/content/test/Motorbikes/image_0696.jpg\"  # Test resminin pathi, test edilmek istenen resim yolu kopyalanmalı\n",
        "    test_sample_vector = process_image(test_image_path)\n",
        "    test_sample_vector = (test_sample_vector - np.min(test_sample_vector)) / (np.max(test_sample_vector) - np.min(test_sample_vector))\n",
        "    test_sample_vector = test_sample_vector.flatten().astype(np.float16)\n",
        "\n",
        "    try:\n",
        "        predicted_label = k_nearest_neighbors(x_data, y_data, test_sample_vector)\n",
        "\n",
        "        # Predict edilen etiketi yazdırır\n",
        "        if predicted_label == 1:\n",
        "            print(\"Tahmin edilen kategori: cellphone\")\n",
        "        elif predicted_label == 2:\n",
        "            print(\"Tahmin edilen kategori: flamingo\")\n",
        "        elif predicted_label == 3:\n",
        "            print(\"Tahmin edilen kategori: Motorbike\")\n",
        "        else:\n",
        "            print(\"Hata\")\n",
        "    except Exception as knn_error:\n",
        "        print(f\"KNN tahmininde hata oluştu: {knn_error}\")\n",
        "\n",
        "except Exception as data_loading_error:\n",
        "    print(f\"!Veri yüklenirken hata oluştu: {data_loading_error}!\")\n"
      ],
      "metadata": {
        "colab": {
          "base_uri": "https://localhost:8080/"
        },
        "id": "_i22eBXDW8lf",
        "outputId": "40f7aeb9-c719-4dc6-ab81-5ac497f7dc51"
      },
      "execution_count": 52,
      "outputs": [
        {
          "output_type": "stream",
          "name": "stdout",
          "text": [
            "Tahmin edilen kategori: Motorbike\n"
          ]
        }
      ]
    }
  ]
}