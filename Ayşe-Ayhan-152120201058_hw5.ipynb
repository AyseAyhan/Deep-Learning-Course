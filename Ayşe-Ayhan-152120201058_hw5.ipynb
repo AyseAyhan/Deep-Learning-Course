{
  "cells": [
    {
      "cell_type": "code",
      "execution_count": null,
      "metadata": {
        "colab": {
          "base_uri": "https://localhost:8080/"
        },
        "id": "EzKg--Y6CCNi",
        "outputId": "e04dd6c2-ef12-42a4-c8a8-788e4826ccff"
      },
      "outputs": [
        {
          "name": "stdout",
          "output_type": "stream",
          "text": [
            "Requirement already satisfied: netron in /usr/local/lib/python3.10/dist-packages (7.3.5)\n"
          ]
        }
      ],
      "source": [
        "!pip install netron"
      ]
    },
    {
      "cell_type": "code",
      "execution_count": null,
      "metadata": {
        "colab": {
          "background_save": true,
          "base_uri": "https://localhost:8080/"
        },
        "id": "AMYiLY7LCIYb",
        "outputId": "c60a25e7-b5be-429a-b3a0-527186e7fda0"
      },
      "outputs": [
        {
          "name": "stdout",
          "output_type": "stream",
          "text": [
            "Drive already mounted at /content/drive; to attempt to forcibly remount, call drive.mount(\"/content/drive\", force_remount=True).\n",
            "Epoch 1/50\n",
            "21/21 [==============================] - 6s 76ms/step - loss: 1.8124 - accuracy: 0.6656 - val_loss: 1.4176 - val_accuracy: 0.8261\n",
            "Epoch 2/50\n",
            "21/21 [==============================] - 1s 24ms/step - loss: 1.0809 - accuracy: 0.8718 - val_loss: 0.9458 - val_accuracy: 0.9130\n",
            "Epoch 3/50\n",
            "21/21 [==============================] - 1s 25ms/step - loss: 0.6808 - accuracy: 0.9496 - val_loss: 0.6850 - val_accuracy: 0.9565\n",
            "Epoch 4/50\n",
            "21/21 [==============================] - 1s 24ms/step - loss: 0.4611 - accuracy: 0.9847 - val_loss: 0.5115 - val_accuracy: 0.9457\n",
            "Epoch 5/50\n",
            "21/21 [==============================] - 0s 22ms/step - loss: 0.3337 - accuracy: 0.9908 - val_loss: 0.3938 - val_accuracy: 0.9565\n",
            "Epoch 6/50\n",
            "21/21 [==============================] - 0s 24ms/step - loss: 0.2333 - accuracy: 0.9924 - val_loss: 0.3128 - val_accuracy: 0.9783\n",
            "Epoch 7/50\n",
            "21/21 [==============================] - 0s 21ms/step - loss: 0.1769 - accuracy: 0.9969 - val_loss: 0.2524 - val_accuracy: 0.9783\n",
            "Epoch 8/50\n",
            "21/21 [==============================] - 1s 25ms/step - loss: 0.1399 - accuracy: 0.9985 - val_loss: 0.2108 - val_accuracy: 0.9783\n",
            "Epoch 9/50\n",
            "21/21 [==============================] - 1s 26ms/step - loss: 0.1059 - accuracy: 0.9985 - val_loss: 0.1806 - val_accuracy: 0.9783\n",
            "Epoch 10/50\n",
            "21/21 [==============================] - 1s 24ms/step - loss: 0.0866 - accuracy: 1.0000 - val_loss: 0.1588 - val_accuracy: 0.9783\n",
            "Epoch 11/50\n",
            "21/21 [==============================] - 1s 25ms/step - loss: 0.0711 - accuracy: 1.0000 - val_loss: 0.1409 - val_accuracy: 0.9783\n",
            "Epoch 12/50\n",
            "21/21 [==============================] - 0s 23ms/step - loss: 0.0592 - accuracy: 1.0000 - val_loss: 0.1284 - val_accuracy: 0.9783\n",
            "Epoch 13/50\n",
            "21/21 [==============================] - 1s 25ms/step - loss: 0.0501 - accuracy: 1.0000 - val_loss: 0.1138 - val_accuracy: 0.9783\n",
            "Epoch 14/50\n",
            "21/21 [==============================] - 1s 25ms/step - loss: 0.0420 - accuracy: 1.0000 - val_loss: 0.1047 - val_accuracy: 0.9783\n",
            "Epoch 15/50\n",
            "21/21 [==============================] - 1s 24ms/step - loss: 0.0377 - accuracy: 1.0000 - val_loss: 0.0985 - val_accuracy: 0.9783\n",
            "Epoch 16/50\n",
            "21/21 [==============================] - 0s 24ms/step - loss: 0.0329 - accuracy: 1.0000 - val_loss: 0.0933 - val_accuracy: 0.9783\n",
            "Epoch 17/50\n",
            "21/21 [==============================] - 1s 25ms/step - loss: 0.0306 - accuracy: 1.0000 - val_loss: 0.0881 - val_accuracy: 0.9783\n",
            "Epoch 18/50\n",
            "21/21 [==============================] - 0s 24ms/step - loss: 0.0262 - accuracy: 1.0000 - val_loss: 0.0831 - val_accuracy: 0.9783\n",
            "Epoch 19/50\n",
            "21/21 [==============================] - 1s 26ms/step - loss: 0.0247 - accuracy: 1.0000 - val_loss: 0.0782 - val_accuracy: 0.9783\n",
            "Epoch 20/50\n",
            "21/21 [==============================] - 0s 21ms/step - loss: 0.0219 - accuracy: 1.0000 - val_loss: 0.0734 - val_accuracy: 0.9783\n",
            "Epoch 21/50\n",
            "21/21 [==============================] - 0s 14ms/step - loss: 0.0197 - accuracy: 1.0000 - val_loss: 0.0695 - val_accuracy: 0.9783\n",
            "Epoch 22/50\n",
            "21/21 [==============================] - 0s 14ms/step - loss: 0.0184 - accuracy: 1.0000 - val_loss: 0.0667 - val_accuracy: 0.9783\n",
            "Epoch 23/50\n",
            "21/21 [==============================] - 0s 14ms/step - loss: 0.0173 - accuracy: 1.0000 - val_loss: 0.0652 - val_accuracy: 0.9783\n",
            "Epoch 24/50\n",
            "21/21 [==============================] - 0s 12ms/step - loss: 0.0150 - accuracy: 1.0000 - val_loss: 0.0633 - val_accuracy: 0.9783\n",
            "Epoch 25/50\n",
            "21/21 [==============================] - 0s 14ms/step - loss: 0.0140 - accuracy: 1.0000 - val_loss: 0.0618 - val_accuracy: 0.9783\n",
            "Epoch 26/50\n",
            "21/21 [==============================] - 0s 13ms/step - loss: 0.0129 - accuracy: 1.0000 - val_loss: 0.0605 - val_accuracy: 0.9783\n",
            "Epoch 27/50\n",
            "21/21 [==============================] - 0s 13ms/step - loss: 0.0130 - accuracy: 1.0000 - val_loss: 0.0587 - val_accuracy: 0.9783\n",
            "Epoch 28/50\n",
            "21/21 [==============================] - 0s 13ms/step - loss: 0.0116 - accuracy: 1.0000 - val_loss: 0.0574 - val_accuracy: 0.9783\n",
            "Epoch 29/50\n",
            "21/21 [==============================] - 0s 13ms/step - loss: 0.0110 - accuracy: 1.0000 - val_loss: 0.0562 - val_accuracy: 0.9783\n",
            "Epoch 30/50\n",
            "21/21 [==============================] - 0s 13ms/step - loss: 0.0107 - accuracy: 1.0000 - val_loss: 0.0549 - val_accuracy: 0.9783\n",
            "Epoch 31/50\n",
            "21/21 [==============================] - 0s 13ms/step - loss: 0.0099 - accuracy: 1.0000 - val_loss: 0.0539 - val_accuracy: 0.9783\n",
            "Epoch 32/50\n",
            "21/21 [==============================] - 0s 14ms/step - loss: 0.0089 - accuracy: 1.0000 - val_loss: 0.0524 - val_accuracy: 0.9783\n",
            "Epoch 33/50\n",
            "21/21 [==============================] - 0s 13ms/step - loss: 0.0090 - accuracy: 1.0000 - val_loss: 0.0516 - val_accuracy: 0.9783\n",
            "Epoch 34/50\n",
            "21/21 [==============================] - 0s 14ms/step - loss: 0.0080 - accuracy: 1.0000 - val_loss: 0.0498 - val_accuracy: 0.9783\n",
            "Epoch 35/50\n",
            "21/21 [==============================] - 0s 13ms/step - loss: 0.0078 - accuracy: 1.0000 - val_loss: 0.0490 - val_accuracy: 0.9783\n",
            "Epoch 36/50\n",
            "21/21 [==============================] - 0s 14ms/step - loss: 0.0074 - accuracy: 1.0000 - val_loss: 0.0481 - val_accuracy: 0.9783\n",
            "Epoch 37/50\n",
            "21/21 [==============================] - 0s 13ms/step - loss: 0.0070 - accuracy: 1.0000 - val_loss: 0.0476 - val_accuracy: 0.9783\n",
            "Epoch 38/50\n",
            "21/21 [==============================] - 0s 13ms/step - loss: 0.0068 - accuracy: 1.0000 - val_loss: 0.0471 - val_accuracy: 0.9783\n",
            "Epoch 39/50\n",
            "21/21 [==============================] - 0s 13ms/step - loss: 0.0060 - accuracy: 1.0000 - val_loss: 0.0466 - val_accuracy: 0.9783\n",
            "Epoch 40/50\n",
            "21/21 [==============================] - 0s 12ms/step - loss: 0.0060 - accuracy: 1.0000 - val_loss: 0.0456 - val_accuracy: 0.9783\n",
            "Epoch 41/50\n",
            "21/21 [==============================] - 0s 13ms/step - loss: 0.0057 - accuracy: 1.0000 - val_loss: 0.0449 - val_accuracy: 0.9783\n",
            "Epoch 42/50\n",
            "21/21 [==============================] - 0s 13ms/step - loss: 0.0055 - accuracy: 1.0000 - val_loss: 0.0441 - val_accuracy: 0.9891\n",
            "Epoch 43/50\n",
            "21/21 [==============================] - 0s 14ms/step - loss: 0.0050 - accuracy: 1.0000 - val_loss: 0.0435 - val_accuracy: 0.9783\n",
            "Epoch 44/50\n",
            "21/21 [==============================] - 0s 14ms/step - loss: 0.0048 - accuracy: 1.0000 - val_loss: 0.0430 - val_accuracy: 0.9891\n",
            "Epoch 45/50\n",
            "21/21 [==============================] - 0s 13ms/step - loss: 0.0048 - accuracy: 1.0000 - val_loss: 0.0427 - val_accuracy: 0.9783\n",
            "Epoch 46/50\n",
            "21/21 [==============================] - 0s 14ms/step - loss: 0.0047 - accuracy: 1.0000 - val_loss: 0.0429 - val_accuracy: 0.9783\n",
            "Epoch 47/50\n",
            "21/21 [==============================] - 0s 14ms/step - loss: 0.0047 - accuracy: 1.0000 - val_loss: 0.0428 - val_accuracy: 0.9783\n",
            "Epoch 48/50\n",
            "21/21 [==============================] - 0s 13ms/step - loss: 0.0049 - accuracy: 1.0000 - val_loss: 0.0422 - val_accuracy: 0.9783\n",
            "Epoch 49/50\n",
            "21/21 [==============================] - 0s 13ms/step - loss: 0.0040 - accuracy: 1.0000 - val_loss: 0.0416 - val_accuracy: 0.9783\n",
            "Epoch 50/50\n",
            "21/21 [==============================] - 0s 13ms/step - loss: 0.0041 - accuracy: 1.0000 - val_loss: 0.0410 - val_accuracy: 0.9783\n",
            "Serving '/content/drive/MyDrive/data/lstm_model' at http://localhost:16029\n",
            "6/6 [==============================] - 0s 4ms/step\n"
          ]
        },
        {
          "data": {
            "image/png": "[encoded data removed]",
            "text/plain": [
              "<Figure size 800x600 with 2 Axes>"
            ]
          },
          "metadata": {},
          "output_type": "display_data"
        },
        {
          "name": "stdout",
          "output_type": "stream",
          "text": [
            "Model Doğruluğu: 0.9576719576719577\n"
          ]
        }
      ],
      "source": [
        "# drive'a bağlanma\n",
        "from google.colab import drive\n",
        "drive.mount('/content/drive')\n",
        "\n",
        "# Keras ve kütüphaneleri yükleme\n",
        "import numpy as np\n",
        "import seaborn as sns\n",
        "import matplotlib.pyplot as plt\n",
        "from sklearn.model_selection import train_test_split\n",
        "from sklearn.metrics import confusion_matrix, accuracy_score\n",
        "from keras.models import Sequential, load_model  # load_model eklenmiş\n",
        "from keras.layers import LSTM, Dense, Dropout\n",
        "from keras.utils import to_categorical\n",
        "import netron\n",
        "\n",
        "# data loader\n",
        "data_path = '/content/drive/MyDrive/data/'\n",
        "time_domain_data = np.load(data_path + 'DataForClassification_TimeDomain.npy')\n",
        "\n",
        "# Veriyi düzenleme\n",
        "X = time_domain_data.T  # Veri boyutu (936x3600)\n",
        "y = np.repeat(np.arange(9), 104)  # labelları oluşturma\n",
        "\n",
        "# Veriyi train, validation ve test setlerine ayırma\n",
        "X_train, X_temp, y_train, y_temp = train_test_split(X, y, test_size=0.3, random_state=42)\n",
        "X_val, X_test, y_val, y_test = train_test_split(X_temp, y_temp, test_size=0.67, random_state=42)\n",
        "\n",
        "# Veriyi LSTM modeline uygun hale getirme\n",
        "X_train = X_train.reshape((X_train.shape[0], 1, X_train.shape[1]))\n",
        "X_val = X_val.reshape((X_val.shape[0], 1, X_val.shape[1]))\n",
        "X_test = X_test.reshape((X_test.shape[0], 1, X_test.shape[1]))\n",
        "\n",
        "# labelları one-hot encoding yapma\n",
        "y_train = to_categorical(y_train)\n",
        "y_val = to_categorical(y_val)\n",
        "y_test = to_categorical(y_test)\n",
        "\n",
        "# LSTM modeli oluşturma\n",
        "model = Sequential()\n",
        "model.add(LSTM(50, input_shape=(X_train.shape[1], X_train.shape[2])))\n",
        "model.add(Dropout(0.2))\n",
        "model.add(Dense(9, activation='softmax'))\n",
        "\n",
        "# Modeli derleme\n",
        "model.compile(loss='categorical_crossentropy', optimizer='adam', metrics=['accuracy'])\n",
        "\n",
        "# modeli eğitme\n",
        "model.fit(X_train, y_train, epochs=50, batch_size=32, validation_data=(X_val, y_val))\n",
        "\n",
        "# Modeli kaydetme\n",
        "model.save(data_path + 'lstm_model')\n",
        "\n",
        "# Netron ile modeli görselleştirme\n",
        "netron.start(data_path + 'lstm_model')\n",
        "\n",
        "# Modeli yükleme\n",
        "loaded_model = load_model(data_path + 'lstm_model')\n",
        "\n",
        "# test seti ile modeli değerlendirme\n",
        "y_pred = loaded_model.predict(X_test)\n",
        "y_pred_classes = np.argmax(y_pred, axis=1)\n",
        "y_true = np.argmax(y_test, axis=1)\n",
        "\n",
        "# confusion matrix oluşturma\n",
        "cm = confusion_matrix(y_true, y_pred_classes)\n",
        "\n",
        "# accuracy değerini hesaplama\n",
        "accuracy = accuracy_score(y_true, y_pred_classes)\n",
        "\n",
        "# Confusion matrixini görselleştirme\n",
        "plt.figure(figsize=(8, 6))\n",
        "sns.heatmap(cm, annot=True, fmt='d', cmap='Blues', xticklabels=['healthy','missing','crack','spall','chip5a','chip4a','chip3a','chip2a','chip1a'], yticklabels=['healthy','missing','crack','spall','chip5a','chip4a','chip3a','chip2a','chip1a'])\n",
        "plt.xlabel('Tahmin Edilen Etiket')\n",
        "plt.ylabel('Gerçek Etiket')\n",
        "plt.title('Confusion Matrix')\n",
        "plt.show()\n",
        "\n",
        "# Model doğruluğunu-accuracy yazdırma\n",
        "print(f'Model Doğruluğu: {accuracy}')\n"
      ]
    },
    {
      "cell_type": "code",
      "execution_count": null,
      "metadata": {
        "colab": {
          "base_uri": "https://localhost:8080/"
        },
        "id": "xJjhWa_Y91cd",
        "outputId": "7dba0985-0e91-4ef4-9752-b1ceeb1ee7a5"
      },
      "outputs": [
        {
          "name": "stdout",
          "output_type": "stream",
          "text": [
            "Requirement already satisfied: netron in /usr/local/lib/python3.10/dist-packages (7.3.5)\n",
            "Serving '/content/drive/MyDrive/data/lstm_model' at http://localhost:18386\n"
          ]
        },
        {
          "data": {
            "text/plain": [
              "('localhost', 18386)"
            ]
          },
          "execution_count": 5,
          "metadata": {},
          "output_type": "execute_result"
        }
      ],
      "source": [
        "# Install Netron\n",
        "!pip install netron\n",
        "\n",
        "# Import Netron\n",
        "import netron\n",
        "\n",
        "# Specify the path to the saved model file\n",
        "model_path = data_path + 'lstm_model'\n",
        "\n",
        "# Start Netron\n",
        "netron.start(model_path)\n",
        "\n"
      ]
    }
  ],
  "metadata": {
    "colab": {
      "provenance": []
    },
    "kernelspec": {
      "display_name": "Python 3",
      "name": "python3"
    },
    "language_info": {
      "name": "python"
    }
  },
  "nbformat": 4,
  "nbformat_minor": 0
}